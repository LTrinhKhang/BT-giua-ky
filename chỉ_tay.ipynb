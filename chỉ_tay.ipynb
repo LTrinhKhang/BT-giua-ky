{
  "nbformat": 4,
  "nbformat_minor": 0,
  "metadata": {
    "colab": {
      "provenance": [],
      "include_colab_link": true
    },
    "kernelspec": {
      "name": "python3",
      "display_name": "Python 3"
    },
    "language_info": {
      "name": "python"
    },
    "accelerator": "GPU",
    "gpuClass": "standard"
  },
  "cells": [
    {
      "cell_type": "markdown",
      "metadata": {
        "id": "view-in-github",
        "colab_type": "text"
      },
      "source": [
        "<a href=\"https://colab.research.google.com/github/LTrinhKhang/BT-giua-ky/blob/main/ch%E1%BB%89_tay.ipynb\" target=\"_parent\"><img src=\"https://colab.research.google.com/assets/colab-badge.svg\" alt=\"Open In Colab\"/></a>"
      ]
    },
    {
      "cell_type": "code",
      "execution_count": null,
      "metadata": {
        "id": "ZXz3Onvx5rKB"
      },
      "outputs": [],
      "source": [
        "import matplotlib.pyplot as plt\n",
        "from matplotlib.image import imread\n",
        "folder = '/content/drive/MyDrive/ảnh chỉ tay 40x30pixel/'"
      ]
    },
    {
      "cell_type": "code",
      "source": [
        "for x in range(10):\n",
        "  plt.subplot(10,5,x+1)\n",
        "  filename3 = folder + '1loai ('+str(x+1)+').jpg'\n",
        "  img3 = plt.imread(filename3)\n",
        "  plt.imshow(img3)"
      ],
      "metadata": {
        "colab": {
          "base_uri": "https://localhost:8080/",
          "height": 134
        },
        "id": "ByKq4cRT6t6Z",
        "outputId": "2f22fbce-ff2c-4727-abfe-24044efe794c"
      },
      "execution_count": null,
      "outputs": [
        {
          "output_type": "display_data",
          "data": {
            "text/plain": [
              "<Figure size 640x480 with 10 Axes>"
            ],
            "image/png": "[encoded data removed]"
          },
          "metadata": {}
        }
      ]
    },
    {
      "cell_type": "code",
      "source": [
        "from os import listdir\n",
        "from os.path import isdir\n",
        "from numpy import asarray\n",
        "from numpy import save\n",
        "from keras.utils import load_img, img_to_array\n",
        "folder = '/content/drive/MyDrive/ảnh chỉ tay 40x30pixel/'\n",
        "photos, labels = list(), list()\n",
        "for file in listdir(folder):\n",
        "  output = 0.0\n",
        "  if file.startswith('1loai '):\n",
        "    output = 1\n",
        "  if file.startswith('2loai '):\n",
        "    output = 2\n",
        "  if file.startswith('3loai '):\n",
        "    output = 3\n",
        "  if file.startswith('4loai '):\n",
        "    output = 4\n",
        "  if file.startswith('5loai '):\n",
        "    output = 5\n",
        "  if file.startswith('6loai '):\n",
        "    output = 6\n",
        "  if file.startswith('7loai '):\n",
        "    output = 7\n",
        "  if file.startswith('8loai '):\n",
        "    output = 8\n",
        "  img =load_img(folder+file,target_size=(30,40))\n",
        "  photo = img_to_array(img)\n",
        "  photos.append(photo)\n",
        "  labels.append(output)\n",
        "photos = asarray(photos)\n",
        "labels = asarray(labels)\n",
        "print(photos.shape,labels.shape)\n",
        "save('chitay_photos.npy',photos)\n",
        "save('chitay_labels.npy',labels)"
      ],
      "metadata": {
        "colab": {
          "base_uri": "https://localhost:8080/"
        },
        "id": "_DgiE67K7Vcs",
        "outputId": "bee05db2-e768-4cf2-bd81-84f059364520"
      },
      "execution_count": null,
      "outputs": [
        {
          "output_type": "stream",
          "name": "stdout",
          "text": [
            "(80, 30, 40, 3) (80,)\n"
          ]
        }
      ]
    },
    {
      "cell_type": "code",
      "source": [
        "import numpy as np\n",
        "x_train = np.load('/content/chitay_photos.npy')\n",
        "y_train = np.load('/content/chitay_labels.npy')\n",
        "print(x_train.shape)\n",
        "print(y_train.shape)"
      ],
      "metadata": {
        "colab": {
          "base_uri": "https://localhost:8080/"
        },
        "id": "BA11hQaK8LFa",
        "outputId": "182961e0-7990-4017-8e83-a0e5f89dfdf2"
      },
      "execution_count": null,
      "outputs": [
        {
          "output_type": "stream",
          "name": "stdout",
          "text": [
            "(80, 30, 40, 3)\n",
            "(80,)\n"
          ]
        }
      ]
    },
    {
      "cell_type": "code",
      "source": [
        "x_train = x_train.astype('float32')/255\n",
        "from keras.utils import to_categorical\n",
        "y_train = to_categorical(y_train,10)"
      ],
      "metadata": {
        "id": "nyewib728ZwJ"
      },
      "execution_count": null,
      "outputs": []
    },
    {
      "cell_type": "code",
      "source": [
        "from keras.models import Sequential\n",
        "from keras.layers import Dense,Dropout,Flatten,Conv2D,MaxPooling2D,Normalization,LeakyReLU\n",
        "from keras.optimizers import Adam\n",
        "\n",
        "#32 lan tich chap\n",
        "model = Sequential()\n",
        "model.add(Conv2D(32,kernel_size = (3,3),activation = 'relu',input_shape=(30,40,3),padding='Same'))\n",
        "model.add(MaxPooling2D((2,2),padding='same'))\n",
        "model.add(Dropout(0.25))\n",
        "\n",
        "#64 lan tich chap\n",
        "model.add(Conv2D(64,(3,3),activation ='relu',padding ='same'))\n",
        "model.add(MaxPooling2D((2,2),padding='same'))\n",
        "model.add(Dropout(0.25))\n",
        "\n",
        "#128 lan tich chap\n",
        "model.add(Conv2D(128,(3,3),activation ='relu',padding ='same'))\n",
        "model.add(MaxPooling2D((2,2),padding='same'))\n",
        "model.add(Dropout(0.25))\n",
        "\n",
        "model.add(Flatten())\n",
        "model.add(Dense(64,activation = 'relu'))\n",
        "model.add(Dropout(0.25))\n",
        "model.add(Dense(10,activation='softmax'))\n",
        "\n",
        "from keras.losses import categorical_crossentropy\n",
        "model.compile(loss = categorical_crossentropy,optimizer = Adam(),metrics=['accuracy'])\n",
        "model.summary()\n",
        "train = model.fit(x_train,y_train,batch_size=8,epochs = 70,verbose = 1)"
      ],
      "metadata": {
        "colab": {
          "base_uri": "https://localhost:8080/"
        },
        "id": "w-8ziTQQ8dOC",
        "outputId": "ba1814d1-0ef2-4d36-bb83-4b0fcc359911"
      },
      "execution_count": null,
      "outputs": [
        {
          "output_type": "stream",
          "name": "stdout",
          "text": [
            "Model: \"sequential\"\n",
            "_________________________________________________________________\n",
            " Layer (type)                Output Shape              Param #   \n",
            "=================================================================\n",
            " conv2d (Conv2D)             (None, 30, 40, 32)        896       \n",
            "                                                                 \n",
            " max_pooling2d (MaxPooling2D  (None, 15, 20, 32)       0         \n",
            " )                                                               \n",
            "                                                                 \n",
            " dropout (Dropout)           (None, 15, 20, 32)        0         \n",
            "                                                                 \n",
            " conv2d_1 (Conv2D)           (None, 15, 20, 64)        18496     \n",
            "                                                                 \n",
            " max_pooling2d_1 (MaxPooling  (None, 8, 10, 64)        0         \n",
            " 2D)                                                             \n",
            "                                                                 \n",
            " dropout_1 (Dropout)         (None, 8, 10, 64)         0         \n",
            "                                                                 \n",
            " conv2d_2 (Conv2D)           (None, 8, 10, 128)        73856     \n",
            "                                                                 \n",
            " max_pooling2d_2 (MaxPooling  (None, 4, 5, 128)        0         \n",
            " 2D)                                                             \n",
            "                                                                 \n",
            " dropout_2 (Dropout)         (None, 4, 5, 128)         0         \n",
            "                                                                 \n",
            " flatten (Flatten)           (None, 2560)              0         \n",
            "                                                                 \n",
            " dense (Dense)               (None, 64)                163904    \n",
            "                                                                 \n",
            " dropout_3 (Dropout)         (None, 64)                0         \n",
            "                                                                 \n",
            " dense_1 (Dense)             (None, 10)                650       \n",
            "                                                                 \n",
            "=================================================================\n",
            "Total params: 257,802\n",
            "Trainable params: 257,802\n",
            "Non-trainable params: 0\n",
            "_________________________________________________________________\n",
            "Epoch 1/70\n",
            "10/10 [==============================] - 10s 4ms/step - loss: 2.3357 - accuracy: 0.0375 \n",
            "Epoch 2/70\n",
            "10/10 [==============================] - 0s 4ms/step - loss: 2.2401 - accuracy: 0.1250\n",
            "Epoch 3/70\n",
            "10/10 [==============================] - 0s 4ms/step - loss: 2.1566 - accuracy: 0.1250\n",
            "Epoch 4/70\n",
            "10/10 [==============================] - 0s 4ms/step - loss: 2.1241 - accuracy: 0.1625\n",
            "Epoch 5/70\n",
            "10/10 [==============================] - 0s 4ms/step - loss: 2.1817 - accuracy: 0.1500\n",
            "Epoch 6/70\n",
            "10/10 [==============================] - 0s 4ms/step - loss: 2.1434 - accuracy: 0.1250\n",
            "Epoch 7/70\n",
            "10/10 [==============================] - 0s 4ms/step - loss: 2.1276 - accuracy: 0.1875\n",
            "Epoch 8/70\n",
            "10/10 [==============================] - 0s 3ms/step - loss: 2.0881 - accuracy: 0.2000\n",
            "Epoch 9/70\n",
            "10/10 [==============================] - 0s 4ms/step - loss: 1.9989 - accuracy: 0.2625\n",
            "Epoch 10/70\n",
            "10/10 [==============================] - 0s 4ms/step - loss: 2.0051 - accuracy: 0.1875\n",
            "Epoch 11/70\n",
            "10/10 [==============================] - 0s 4ms/step - loss: 1.9423 - accuracy: 0.2500\n",
            "Epoch 12/70\n",
            "10/10 [==============================] - 0s 4ms/step - loss: 2.0594 - accuracy: 0.1875\n",
            "Epoch 13/70\n",
            "10/10 [==============================] - 0s 4ms/step - loss: 1.9122 - accuracy: 0.3125\n",
            "Epoch 14/70\n",
            "10/10 [==============================] - 0s 4ms/step - loss: 1.8473 - accuracy: 0.2875\n",
            "Epoch 15/70\n",
            "10/10 [==============================] - 0s 4ms/step - loss: 1.7121 - accuracy: 0.3500\n",
            "Epoch 16/70\n",
            "10/10 [==============================] - 0s 4ms/step - loss: 1.7134 - accuracy: 0.4125\n",
            "Epoch 17/70\n",
            "10/10 [==============================] - 0s 4ms/step - loss: 1.6779 - accuracy: 0.4000\n",
            "Epoch 18/70\n",
            "10/10 [==============================] - 0s 6ms/step - loss: 1.7239 - accuracy: 0.3375\n",
            "Epoch 19/70\n",
            "10/10 [==============================] - 0s 5ms/step - loss: 1.7012 - accuracy: 0.3375\n",
            "Epoch 20/70\n",
            "10/10 [==============================] - 0s 7ms/step - loss: 1.5465 - accuracy: 0.4125\n",
            "Epoch 21/70\n",
            "10/10 [==============================] - 0s 5ms/step - loss: 1.5397 - accuracy: 0.4000\n",
            "Epoch 22/70\n",
            "10/10 [==============================] - 0s 7ms/step - loss: 1.5555 - accuracy: 0.4000\n",
            "Epoch 23/70\n",
            "10/10 [==============================] - 0s 9ms/step - loss: 1.4728 - accuracy: 0.4375\n",
            "Epoch 24/70\n",
            "10/10 [==============================] - 0s 9ms/step - loss: 1.2802 - accuracy: 0.5250\n",
            "Epoch 25/70\n",
            "10/10 [==============================] - 0s 10ms/step - loss: 1.3018 - accuracy: 0.5500\n",
            "Epoch 26/70\n",
            "10/10 [==============================] - 0s 11ms/step - loss: 1.2814 - accuracy: 0.5750\n",
            "Epoch 27/70\n",
            "10/10 [==============================] - 0s 5ms/step - loss: 1.1428 - accuracy: 0.5625\n",
            "Epoch 28/70\n",
            "10/10 [==============================] - 0s 5ms/step - loss: 1.1006 - accuracy: 0.5875\n",
            "Epoch 29/70\n",
            "10/10 [==============================] - 0s 5ms/step - loss: 1.0072 - accuracy: 0.6125\n",
            "Epoch 30/70\n",
            "10/10 [==============================] - 0s 5ms/step - loss: 1.1101 - accuracy: 0.5875\n",
            "Epoch 31/70\n",
            "10/10 [==============================] - 0s 6ms/step - loss: 1.0017 - accuracy: 0.6500\n",
            "Epoch 32/70\n",
            "10/10 [==============================] - 0s 5ms/step - loss: 0.8920 - accuracy: 0.6875\n",
            "Epoch 33/70\n",
            "10/10 [==============================] - 0s 5ms/step - loss: 0.9987 - accuracy: 0.6875\n",
            "Epoch 34/70\n",
            "10/10 [==============================] - 0s 6ms/step - loss: 0.8613 - accuracy: 0.7125\n",
            "Epoch 35/70\n",
            "10/10 [==============================] - 0s 6ms/step - loss: 0.7776 - accuracy: 0.7250\n",
            "Epoch 36/70\n",
            "10/10 [==============================] - 0s 6ms/step - loss: 0.6948 - accuracy: 0.7250\n",
            "Epoch 37/70\n",
            "10/10 [==============================] - 0s 6ms/step - loss: 0.8322 - accuracy: 0.6750\n",
            "Epoch 38/70\n",
            "10/10 [==============================] - 0s 6ms/step - loss: 0.7935 - accuracy: 0.7125\n",
            "Epoch 39/70\n",
            "10/10 [==============================] - 0s 6ms/step - loss: 0.7607 - accuracy: 0.7625\n",
            "Epoch 40/70\n",
            "10/10 [==============================] - 0s 6ms/step - loss: 0.7093 - accuracy: 0.7625\n",
            "Epoch 41/70\n",
            "10/10 [==============================] - 0s 5ms/step - loss: 0.6897 - accuracy: 0.7750\n",
            "Epoch 42/70\n",
            "10/10 [==============================] - 0s 6ms/step - loss: 0.8675 - accuracy: 0.7000\n",
            "Epoch 43/70\n",
            "10/10 [==============================] - 0s 6ms/step - loss: 0.4687 - accuracy: 0.8625\n",
            "Epoch 44/70\n",
            "10/10 [==============================] - 0s 5ms/step - loss: 0.5278 - accuracy: 0.8250\n",
            "Epoch 45/70\n",
            "10/10 [==============================] - 0s 6ms/step - loss: 0.8911 - accuracy: 0.6500\n",
            "Epoch 46/70\n",
            "10/10 [==============================] - 0s 5ms/step - loss: 0.5712 - accuracy: 0.8000\n",
            "Epoch 47/70\n",
            "10/10 [==============================] - 0s 9ms/step - loss: 0.5705 - accuracy: 0.8125\n",
            "Epoch 48/70\n",
            "10/10 [==============================] - 0s 8ms/step - loss: 0.5313 - accuracy: 0.7625\n",
            "Epoch 49/70\n",
            "10/10 [==============================] - 0s 6ms/step - loss: 0.5456 - accuracy: 0.8000\n",
            "Epoch 50/70\n",
            "10/10 [==============================] - 0s 5ms/step - loss: 0.5763 - accuracy: 0.7875\n",
            "Epoch 51/70\n",
            "10/10 [==============================] - 0s 5ms/step - loss: 0.4327 - accuracy: 0.8625\n",
            "Epoch 52/70\n",
            "10/10 [==============================] - 0s 6ms/step - loss: 0.5309 - accuracy: 0.8000\n",
            "Epoch 53/70\n",
            "10/10 [==============================] - 0s 5ms/step - loss: 0.3994 - accuracy: 0.8375\n",
            "Epoch 54/70\n",
            "10/10 [==============================] - 0s 5ms/step - loss: 0.5101 - accuracy: 0.8250\n",
            "Epoch 55/70\n",
            "10/10 [==============================] - 0s 5ms/step - loss: 0.3351 - accuracy: 0.8875\n",
            "Epoch 56/70\n",
            "10/10 [==============================] - 0s 6ms/step - loss: 0.4470 - accuracy: 0.8500\n",
            "Epoch 57/70\n",
            "10/10 [==============================] - 0s 5ms/step - loss: 0.3209 - accuracy: 0.9000\n",
            "Epoch 58/70\n",
            "10/10 [==============================] - 0s 5ms/step - loss: 0.3224 - accuracy: 0.8875\n",
            "Epoch 59/70\n",
            "10/10 [==============================] - 0s 5ms/step - loss: 0.3475 - accuracy: 0.8625\n",
            "Epoch 60/70\n",
            "10/10 [==============================] - 0s 5ms/step - loss: 0.2869 - accuracy: 0.9000\n",
            "Epoch 61/70\n",
            "10/10 [==============================] - 0s 5ms/step - loss: 0.2684 - accuracy: 0.9125\n",
            "Epoch 62/70\n",
            "10/10 [==============================] - 0s 5ms/step - loss: 0.5888 - accuracy: 0.7875\n",
            "Epoch 63/70\n",
            "10/10 [==============================] - 0s 5ms/step - loss: 0.4105 - accuracy: 0.8625\n",
            "Epoch 64/70\n",
            "10/10 [==============================] - 0s 5ms/step - loss: 0.3301 - accuracy: 0.8875\n",
            "Epoch 65/70\n",
            "10/10 [==============================] - 0s 5ms/step - loss: 0.3266 - accuracy: 0.8875\n",
            "Epoch 66/70\n",
            "10/10 [==============================] - 0s 7ms/step - loss: 0.3326 - accuracy: 0.8750\n",
            "Epoch 67/70\n",
            "10/10 [==============================] - 0s 9ms/step - loss: 0.2611 - accuracy: 0.9250\n",
            "Epoch 68/70\n",
            "10/10 [==============================] - 0s 5ms/step - loss: 0.3077 - accuracy: 0.8875\n",
            "Epoch 69/70\n",
            "10/10 [==============================] - 0s 5ms/step - loss: 0.3457 - accuracy: 0.8500\n",
            "Epoch 70/70\n",
            "10/10 [==============================] - 0s 5ms/step - loss: 0.3763 - accuracy: 0.8625\n"
          ]
        }
      ]
    },
    {
      "cell_type": "code",
      "source": [
        "import matplotlib.pyplot as plt\n",
        "from keras.utils import load_img\n",
        "from keras.utils.image_utils import img_to_array\n",
        "import numpy as np\n",
        "vat = {1: 'Tài vận tốt, Sức khỏe ổn định, tình duyên đào hoa',2:'Tài vận tốt, Sức khỏe ổn định, tình duyên lận đận', \n",
        "       3:'Tài vận tốt, sức khỏe kém, Tình duyên đào hoa', 4:'Tài vận tốt, sức khỏe kém, tình duyên lận đận',\n",
        "       5:'Tài vận kém, Sức khỏe ổn định, tình duyên đào hoa', 6:'Tài vận kém, Sức khỏe ổn định, tình duyên lận đận',\n",
        "       7:'Tài vận kém, sức khỏe kém, Tình duyên đào hoa', 8:'Tài vận kém, sức khỏe kém, tình duyên lận đận'}\n",
        "img = load_img(\"/content/drive/MyDrive/ảnh test.jpg\",target_size=(30,40))\n",
        "plt.imshow(img)\n",
        "img = img_to_array(img)\n",
        "img=img.reshape(1,30,40,3)\n",
        "img = img.astype('float32')\n",
        "img =img/255\n",
        "result  = np.argmax(model.predict(img),axis=1)\n",
        "vat[result[0]]"
      ],
      "metadata": {
        "colab": {
          "base_uri": "https://localhost:8080/",
          "height": 467
        },
        "id": "KP8cefD78nKs",
        "outputId": "c2ed0dbb-7159-4395-a08b-0c1bb350b21a"
      },
      "execution_count": null,
      "outputs": [
        {
          "output_type": "stream",
          "name": "stdout",
          "text": [
            "1/1 [==============================] - 0s 399ms/step\n"
          ]
        },
        {
          "output_type": "execute_result",
          "data": {
            "text/plain": [
              "'Tài vận kém, Sức khỏe ổn định, tình duyên lận đận'"
            ],
            "application/vnd.google.colaboratory.intrinsic+json": {
              "type": "string"
            }
          },
          "metadata": {},
          "execution_count": 8
        },
        {
          "output_type": "display_data",
          "data": {
            "text/plain": [
              "<Figure size 640x480 with 1 Axes>"
            ],
            "image/png": "[encoded data removed]"
          },
          "metadata": {}
        }
      ]
    }
  ]
}